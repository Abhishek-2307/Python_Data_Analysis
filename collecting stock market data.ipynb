{
 "cells": [
  {
   "cell_type": "markdown",
   "metadata": {},
   "source": [
    "### Importing modules"
   ]
  },
  {
   "cell_type": "code",
   "execution_count": 26,
   "metadata": {},
   "outputs": [
    {
     "ename": "ModuleNotFoundError",
     "evalue": "No module named 'urllib2'",
     "output_type": "error",
     "traceback": [
      "\u001b[1;31m---------------------------------------------------------------------------\u001b[0m",
      "\u001b[1;31mModuleNotFoundError\u001b[0m                       Traceback (most recent call last)",
      "\u001b[1;32m<ipython-input-26-55f11a3b6852>\u001b[0m in \u001b[0;36m<module>\u001b[1;34m()\u001b[0m\n\u001b[0;32m      3\u001b[0m \u001b[1;32mimport\u001b[0m \u001b[0mmatplotlib\u001b[0m\u001b[1;33m.\u001b[0m\u001b[0mpyplot\u001b[0m \u001b[1;32mas\u001b[0m \u001b[0mplt\u001b[0m\u001b[1;33m\u001b[0m\u001b[0m\n\u001b[0;32m      4\u001b[0m \u001b[0mget_ipython\u001b[0m\u001b[1;33m(\u001b[0m\u001b[1;33m)\u001b[0m\u001b[1;33m.\u001b[0m\u001b[0mmagic\u001b[0m\u001b[1;33m(\u001b[0m\u001b[1;34m'matplotlib inline'\u001b[0m\u001b[1;33m)\u001b[0m\u001b[1;33m\u001b[0m\u001b[0m\n\u001b[1;32m----> 5\u001b[1;33m \u001b[1;32mfrom\u001b[0m \u001b[0murllib2\u001b[0m \u001b[1;32mimport\u001b[0m \u001b[0murlopen\u001b[0m\u001b[1;33m\u001b[0m\u001b[0m\n\u001b[0m",
      "\u001b[1;31mModuleNotFoundError\u001b[0m: No module named 'urllib2'"
     ]
    }
   ],
   "source": [
    "import pandas as pd\n",
    "import numpy as np\n",
    "import matplotlib.pyplot as plt\n",
    "%matplotlib inline\n",
    "from urllib.request import urlopen"
   ]
  },
  {
   "cell_type": "code",
   "execution_count": 2,
   "metadata": {
    "collapsed": true
   },
   "outputs": [],
   "source": [
    "myfile = pd.read_csv(\"IEX_stock_aapl_chart_1y.csv\")"
   ]
  },
  {
   "cell_type": "code",
   "execution_count": 6,
   "metadata": {
    "collapsed": true
   },
   "outputs": [],
   "source": [
    "myfile2 = pd.read_csv(\"IEX_stock_f_chart_1y.csv\")"
   ]
  },
  {
   "cell_type": "code",
   "execution_count": 3,
   "metadata": {},
   "outputs": [
    {
     "data": {
      "text/html": [
       "<div>\n",
       "<style>\n",
       "    .dataframe thead tr:only-child th {\n",
       "        text-align: right;\n",
       "    }\n",
       "\n",
       "    .dataframe thead th {\n",
       "        text-align: left;\n",
       "    }\n",
       "\n",
       "    .dataframe tbody tr th {\n",
       "        vertical-align: top;\n",
       "    }\n",
       "</style>\n",
       "<table border=\"1\" class=\"dataframe\">\n",
       "  <thead>\n",
       "    <tr style=\"text-align: right;\">\n",
       "      <th></th>\n",
       "      <th>date</th>\n",
       "      <th>open</th>\n",
       "      <th>high</th>\n",
       "      <th>low</th>\n",
       "      <th>close</th>\n",
       "      <th>volume</th>\n",
       "      <th>unadjustedVolume</th>\n",
       "      <th>change</th>\n",
       "      <th>changePercent</th>\n",
       "      <th>vwap</th>\n",
       "      <th>label</th>\n",
       "      <th>changeOverTime</th>\n",
       "    </tr>\n",
       "  </thead>\n",
       "  <tbody>\n",
       "    <tr>\n",
       "      <th>0</th>\n",
       "      <td>2018-06-08</td>\n",
       "      <td>188.3036</td>\n",
       "      <td>189.1211</td>\n",
       "      <td>186.9246</td>\n",
       "      <td>188.8256</td>\n",
       "      <td>26656799</td>\n",
       "      <td>26656799</td>\n",
       "      <td>-1.733600</td>\n",
       "      <td>-0.910</td>\n",
       "      <td>188.0835</td>\n",
       "      <td>Jun 8, 18</td>\n",
       "      <td>0.000000</td>\n",
       "    </tr>\n",
       "    <tr>\n",
       "      <th>1</th>\n",
       "      <td>2018-06-11</td>\n",
       "      <td>188.4809</td>\n",
       "      <td>189.0916</td>\n",
       "      <td>187.3580</td>\n",
       "      <td>188.3627</td>\n",
       "      <td>18308460</td>\n",
       "      <td>18308460</td>\n",
       "      <td>-0.462955</td>\n",
       "      <td>-0.245</td>\n",
       "      <td>188.3202</td>\n",
       "      <td>Jun 11, 18</td>\n",
       "      <td>-0.002451</td>\n",
       "    </tr>\n",
       "    <tr>\n",
       "      <th>2</th>\n",
       "      <td>2018-06-12</td>\n",
       "      <td>188.5153</td>\n",
       "      <td>189.7230</td>\n",
       "      <td>188.2839</td>\n",
       "      <td>189.3969</td>\n",
       "      <td>16911141</td>\n",
       "      <td>16911141</td>\n",
       "      <td>1.034300</td>\n",
       "      <td>0.549</td>\n",
       "      <td>188.9136</td>\n",
       "      <td>Jun 12, 18</td>\n",
       "      <td>0.003026</td>\n",
       "    </tr>\n",
       "    <tr>\n",
       "      <th>3</th>\n",
       "      <td>2018-06-13</td>\n",
       "      <td>189.5348</td>\n",
       "      <td>189.9879</td>\n",
       "      <td>187.5845</td>\n",
       "      <td>187.8406</td>\n",
       "      <td>21638393</td>\n",
       "      <td>21638393</td>\n",
       "      <td>-1.556300</td>\n",
       "      <td>-0.822</td>\n",
       "      <td>188.7017</td>\n",
       "      <td>Jun 13, 18</td>\n",
       "      <td>-0.005216</td>\n",
       "    </tr>\n",
       "    <tr>\n",
       "      <th>4</th>\n",
       "      <td>2018-06-14</td>\n",
       "      <td>188.6779</td>\n",
       "      <td>188.6976</td>\n",
       "      <td>187.3678</td>\n",
       "      <td>187.9391</td>\n",
       "      <td>21610074</td>\n",
       "      <td>21610074</td>\n",
       "      <td>0.098499</td>\n",
       "      <td>0.052</td>\n",
       "      <td>188.0304</td>\n",
       "      <td>Jun 14, 18</td>\n",
       "      <td>-0.004695</td>\n",
       "    </tr>\n",
       "  </tbody>\n",
       "</table>\n",
       "</div>"
      ],
      "text/plain": [
       "         date      open      high       low     close    volume  \\\n",
       "0  2018-06-08  188.3036  189.1211  186.9246  188.8256  26656799   \n",
       "1  2018-06-11  188.4809  189.0916  187.3580  188.3627  18308460   \n",
       "2  2018-06-12  188.5153  189.7230  188.2839  189.3969  16911141   \n",
       "3  2018-06-13  189.5348  189.9879  187.5845  187.8406  21638393   \n",
       "4  2018-06-14  188.6779  188.6976  187.3678  187.9391  21610074   \n",
       "\n",
       "   unadjustedVolume    change  changePercent      vwap       label  \\\n",
       "0          26656799 -1.733600         -0.910  188.0835   Jun 8, 18   \n",
       "1          18308460 -0.462955         -0.245  188.3202  Jun 11, 18   \n",
       "2          16911141  1.034300          0.549  188.9136  Jun 12, 18   \n",
       "3          21638393 -1.556300         -0.822  188.7017  Jun 13, 18   \n",
       "4          21610074  0.098499          0.052  188.0304  Jun 14, 18   \n",
       "\n",
       "   changeOverTime  \n",
       "0        0.000000  \n",
       "1       -0.002451  \n",
       "2        0.003026  \n",
       "3       -0.005216  \n",
       "4       -0.004695  "
      ]
     },
     "execution_count": 3,
     "metadata": {},
     "output_type": "execute_result"
    }
   ],
   "source": [
    "myfile.head()"
   ]
  },
  {
   "cell_type": "code",
   "execution_count": 4,
   "metadata": {
    "collapsed": true
   },
   "outputs": [],
   "source": [
    "df = myfile[[\"date\",\"open\",\"close\",\"volume\"]]"
   ]
  },
  {
   "cell_type": "code",
   "execution_count": 9,
   "metadata": {
    "collapsed": true
   },
   "outputs": [],
   "source": [
    "df2 = myfile2[[\"date\",\"open\",\"close\",\"volume\"]]"
   ]
  },
  {
   "cell_type": "code",
   "execution_count": 5,
   "metadata": {},
   "outputs": [
    {
     "data": {
      "text/html": [
       "<div>\n",
       "<style>\n",
       "    .dataframe thead tr:only-child th {\n",
       "        text-align: right;\n",
       "    }\n",
       "\n",
       "    .dataframe thead th {\n",
       "        text-align: left;\n",
       "    }\n",
       "\n",
       "    .dataframe tbody tr th {\n",
       "        vertical-align: top;\n",
       "    }\n",
       "</style>\n",
       "<table border=\"1\" class=\"dataframe\">\n",
       "  <thead>\n",
       "    <tr style=\"text-align: right;\">\n",
       "      <th></th>\n",
       "      <th>date</th>\n",
       "      <th>open</th>\n",
       "      <th>close</th>\n",
       "      <th>volume</th>\n",
       "    </tr>\n",
       "  </thead>\n",
       "  <tbody>\n",
       "    <tr>\n",
       "      <th>0</th>\n",
       "      <td>2018-06-08</td>\n",
       "      <td>188.3036</td>\n",
       "      <td>188.8256</td>\n",
       "      <td>26656799</td>\n",
       "    </tr>\n",
       "    <tr>\n",
       "      <th>1</th>\n",
       "      <td>2018-06-11</td>\n",
       "      <td>188.4809</td>\n",
       "      <td>188.3627</td>\n",
       "      <td>18308460</td>\n",
       "    </tr>\n",
       "    <tr>\n",
       "      <th>2</th>\n",
       "      <td>2018-06-12</td>\n",
       "      <td>188.5153</td>\n",
       "      <td>189.3969</td>\n",
       "      <td>16911141</td>\n",
       "    </tr>\n",
       "    <tr>\n",
       "      <th>3</th>\n",
       "      <td>2018-06-13</td>\n",
       "      <td>189.5348</td>\n",
       "      <td>187.8406</td>\n",
       "      <td>21638393</td>\n",
       "    </tr>\n",
       "    <tr>\n",
       "      <th>4</th>\n",
       "      <td>2018-06-14</td>\n",
       "      <td>188.6779</td>\n",
       "      <td>187.9391</td>\n",
       "      <td>21610074</td>\n",
       "    </tr>\n",
       "  </tbody>\n",
       "</table>\n",
       "</div>"
      ],
      "text/plain": [
       "         date      open     close    volume\n",
       "0  2018-06-08  188.3036  188.8256  26656799\n",
       "1  2018-06-11  188.4809  188.3627  18308460\n",
       "2  2018-06-12  188.5153  189.3969  16911141\n",
       "3  2018-06-13  189.5348  187.8406  21638393\n",
       "4  2018-06-14  188.6779  187.9391  21610074"
      ]
     },
     "execution_count": 5,
     "metadata": {},
     "output_type": "execute_result"
    }
   ],
   "source": [
    "df.head()"
   ]
  },
  {
   "cell_type": "code",
   "execution_count": 10,
   "metadata": {},
   "outputs": [
    {
     "name": "stderr",
     "output_type": "stream",
     "text": [
      "C:\\ProgramData\\Anaconda3\\lib\\site-packages\\ipykernel_launcher.py:1: SettingWithCopyWarning: \n",
      "A value is trying to be set on a copy of a slice from a DataFrame.\n",
      "Try using .loc[row_indexer,col_indexer] = value instead\n",
      "\n",
      "See the caveats in the documentation: http://pandas.pydata.org/pandas-docs/stable/indexing.html#indexing-view-versus-copy\n",
      "  \"\"\"Entry point for launching an IPython kernel.\n",
      "C:\\ProgramData\\Anaconda3\\lib\\site-packages\\ipykernel_launcher.py:2: SettingWithCopyWarning: \n",
      "A value is trying to be set on a copy of a slice from a DataFrame.\n",
      "Try using .loc[row_indexer,col_indexer] = value instead\n",
      "\n",
      "See the caveats in the documentation: http://pandas.pydata.org/pandas-docs/stable/indexing.html#indexing-view-versus-copy\n",
      "  \n"
     ]
    }
   ],
   "source": [
    "df['stocks'] = \"appl\"\n",
    "df2['stocks'] = \"f\""
   ]
  },
  {
   "cell_type": "code",
   "execution_count": 8,
   "metadata": {},
   "outputs": [
    {
     "data": {
      "text/html": [
       "<div>\n",
       "<style>\n",
       "    .dataframe thead tr:only-child th {\n",
       "        text-align: right;\n",
       "    }\n",
       "\n",
       "    .dataframe thead th {\n",
       "        text-align: left;\n",
       "    }\n",
       "\n",
       "    .dataframe tbody tr th {\n",
       "        vertical-align: top;\n",
       "    }\n",
       "</style>\n",
       "<table border=\"1\" class=\"dataframe\">\n",
       "  <thead>\n",
       "    <tr style=\"text-align: right;\">\n",
       "      <th></th>\n",
       "      <th>date</th>\n",
       "      <th>open</th>\n",
       "      <th>close</th>\n",
       "      <th>volume</th>\n",
       "      <th>stocks</th>\n",
       "    </tr>\n",
       "  </thead>\n",
       "  <tbody>\n",
       "    <tr>\n",
       "      <th>0</th>\n",
       "      <td>2018-06-08</td>\n",
       "      <td>188.3036</td>\n",
       "      <td>188.8256</td>\n",
       "      <td>26656799</td>\n",
       "      <td>appl</td>\n",
       "    </tr>\n",
       "    <tr>\n",
       "      <th>1</th>\n",
       "      <td>2018-06-11</td>\n",
       "      <td>188.4809</td>\n",
       "      <td>188.3627</td>\n",
       "      <td>18308460</td>\n",
       "      <td>appl</td>\n",
       "    </tr>\n",
       "    <tr>\n",
       "      <th>2</th>\n",
       "      <td>2018-06-12</td>\n",
       "      <td>188.5153</td>\n",
       "      <td>189.3969</td>\n",
       "      <td>16911141</td>\n",
       "      <td>appl</td>\n",
       "    </tr>\n",
       "    <tr>\n",
       "      <th>3</th>\n",
       "      <td>2018-06-13</td>\n",
       "      <td>189.5348</td>\n",
       "      <td>187.8406</td>\n",
       "      <td>21638393</td>\n",
       "      <td>appl</td>\n",
       "    </tr>\n",
       "    <tr>\n",
       "      <th>4</th>\n",
       "      <td>2018-06-14</td>\n",
       "      <td>188.6779</td>\n",
       "      <td>187.9391</td>\n",
       "      <td>21610074</td>\n",
       "      <td>appl</td>\n",
       "    </tr>\n",
       "  </tbody>\n",
       "</table>\n",
       "</div>"
      ],
      "text/plain": [
       "         date      open     close    volume stocks\n",
       "0  2018-06-08  188.3036  188.8256  26656799   appl\n",
       "1  2018-06-11  188.4809  188.3627  18308460   appl\n",
       "2  2018-06-12  188.5153  189.3969  16911141   appl\n",
       "3  2018-06-13  189.5348  187.8406  21638393   appl\n",
       "4  2018-06-14  188.6779  187.9391  21610074   appl"
      ]
     },
     "execution_count": 8,
     "metadata": {},
     "output_type": "execute_result"
    }
   ],
   "source": [
    "df.head()"
   ]
  },
  {
   "cell_type": "code",
   "execution_count": 11,
   "metadata": {},
   "outputs": [
    {
     "data": {
      "text/html": [
       "<div>\n",
       "<style>\n",
       "    .dataframe thead tr:only-child th {\n",
       "        text-align: right;\n",
       "    }\n",
       "\n",
       "    .dataframe thead th {\n",
       "        text-align: left;\n",
       "    }\n",
       "\n",
       "    .dataframe tbody tr th {\n",
       "        vertical-align: top;\n",
       "    }\n",
       "</style>\n",
       "<table border=\"1\" class=\"dataframe\">\n",
       "  <thead>\n",
       "    <tr style=\"text-align: right;\">\n",
       "      <th></th>\n",
       "      <th>date</th>\n",
       "      <th>open</th>\n",
       "      <th>close</th>\n",
       "      <th>volume</th>\n",
       "      <th>stocks</th>\n",
       "    </tr>\n",
       "  </thead>\n",
       "  <tbody>\n",
       "    <tr>\n",
       "      <th>0</th>\n",
       "      <td>2018-06-08</td>\n",
       "      <td>11.2828</td>\n",
       "      <td>11.3391</td>\n",
       "      <td>28371881</td>\n",
       "      <td>f</td>\n",
       "    </tr>\n",
       "    <tr>\n",
       "      <th>1</th>\n",
       "      <td>2018-06-11</td>\n",
       "      <td>11.3391</td>\n",
       "      <td>11.2735</td>\n",
       "      <td>30398078</td>\n",
       "      <td>f</td>\n",
       "    </tr>\n",
       "    <tr>\n",
       "      <th>2</th>\n",
       "      <td>2018-06-12</td>\n",
       "      <td>11.3110</td>\n",
       "      <td>11.3484</td>\n",
       "      <td>51395448</td>\n",
       "      <td>f</td>\n",
       "    </tr>\n",
       "    <tr>\n",
       "      <th>3</th>\n",
       "      <td>2018-06-13</td>\n",
       "      <td>11.3391</td>\n",
       "      <td>11.2641</td>\n",
       "      <td>28406733</td>\n",
       "      <td>f</td>\n",
       "    </tr>\n",
       "    <tr>\n",
       "      <th>4</th>\n",
       "      <td>2018-06-14</td>\n",
       "      <td>11.2454</td>\n",
       "      <td>11.1423</td>\n",
       "      <td>34523019</td>\n",
       "      <td>f</td>\n",
       "    </tr>\n",
       "  </tbody>\n",
       "</table>\n",
       "</div>"
      ],
      "text/plain": [
       "         date     open    close    volume stocks\n",
       "0  2018-06-08  11.2828  11.3391  28371881      f\n",
       "1  2018-06-11  11.3391  11.2735  30398078      f\n",
       "2  2018-06-12  11.3110  11.3484  51395448      f\n",
       "3  2018-06-13  11.3391  11.2641  28406733      f\n",
       "4  2018-06-14  11.2454  11.1423  34523019      f"
      ]
     },
     "execution_count": 11,
     "metadata": {},
     "output_type": "execute_result"
    }
   ],
   "source": [
    "df2.head()"
   ]
  },
  {
   "cell_type": "code",
   "execution_count": 27,
   "metadata": {},
   "outputs": [
    {
     "ename": "AttributeError",
     "evalue": "module 'urllib' has no attribute 'urlopen'",
     "output_type": "error",
     "traceback": [
      "\u001b[1;31m---------------------------------------------------------------------------\u001b[0m",
      "\u001b[1;31mAttributeError\u001b[0m                            Traceback (most recent call last)",
      "\u001b[1;32m<ipython-input-27-fb6ac52119a6>\u001b[0m in \u001b[0;36m<module>\u001b[1;34m()\u001b[0m\n\u001b[0;32m      5\u001b[0m     \u001b[1;32mfor\u001b[0m \u001b[0mstk\u001b[0m \u001b[1;32min\u001b[0m \u001b[1;33m[\u001b[0m\u001b[1;34m'AAPL'\u001b[0m\u001b[1;33m,\u001b[0m\u001b[1;34m'F'\u001b[0m\u001b[1;33m]\u001b[0m\u001b[1;33m:\u001b[0m\u001b[1;33m\u001b[0m\u001b[0m\n\u001b[0;32m      6\u001b[0m         \u001b[0murl\u001b[0m \u001b[1;33m=\u001b[0m \u001b[1;34m\"http://chartapi.finance.yahoo.com/instrument/1.0/\"\u001b[0m \u001b[1;33m+\u001b[0m \u001b[0mstk\u001b[0m \u001b[1;33m+\u001b[0m \u001b[1;34m\"/chartdata;type=quote;range=1y/csv\"\u001b[0m\u001b[1;33m\u001b[0m\u001b[0m\n\u001b[1;32m----> 7\u001b[1;33m         \u001b[0msourceCode\u001b[0m \u001b[1;33m=\u001b[0m \u001b[0murllib\u001b[0m\u001b[1;33m.\u001b[0m\u001b[0murlopen\u001b[0m\u001b[1;33m(\u001b[0m\u001b[0murl\u001b[0m\u001b[1;33m)\u001b[0m\u001b[1;33m.\u001b[0m\u001b[0mread\u001b[0m\u001b[1;33m(\u001b[0m\u001b[1;33m)\u001b[0m\u001b[1;33m\u001b[0m\u001b[0m\n\u001b[0m\u001b[0;32m      8\u001b[0m         \u001b[0msplitSource\u001b[0m \u001b[1;33m=\u001b[0m \u001b[0msourceCode\u001b[0m\u001b[1;33m.\u001b[0m\u001b[0msplit\u001b[0m\u001b[1;33m(\u001b[0m\u001b[1;34m'\\n'\u001b[0m\u001b[1;33m)\u001b[0m\u001b[1;33m\u001b[0m\u001b[0m\n\u001b[0;32m      9\u001b[0m         \u001b[1;32mfor\u001b[0m \u001b[0meachLine\u001b[0m \u001b[1;32min\u001b[0m \u001b[0msplitSource\u001b[0m\u001b[1;33m:\u001b[0m\u001b[1;33m\u001b[0m\u001b[0m\n",
      "\u001b[1;31mAttributeError\u001b[0m: module 'urllib' has no attribute 'urlopen'"
     ]
    }
   ],
   "source": [
    "\n",
    "\n",
    "count = 0\n",
    "with open('mystocks.csv', 'w') as f:\n",
    "    for stk in ['AAPL','F']:\n",
    "        url = \"http://chartapi.finance.yahoo.com/instrument/1.0/\" + stk + \"/chartdata;type=quote;range=1y/csv\"\n",
    "        sourceCode = urllib.urlopen(url).read()\n",
    "        splitSource = sourceCode.split('\\n')\n",
    "        for eachLine in splitSource:\n",
    "            splitLine = eachLine.split(',')\n",
    "            if len(splitLine) == 6 and len(splitLine[0])==8:\n",
    "                print(splitLine)\n",
    "                f.write(stk + \",\" + eachLine + \"\\n\")\n",
    "                count = count + 1\n",
    "f.close() \n",
    "print(count)\n"
   ]
  },
  {
   "cell_type": "code",
   "execution_count": null,
   "metadata": {
    "collapsed": true
   },
   "outputs": [],
   "source": []
  }
 ],
 "metadata": {
  "kernelspec": {
   "display_name": "Python 3",
   "language": "python",
   "name": "python3"
  },
  "language_info": {
   "codemirror_mode": {
    "name": "ipython",
    "version": 3
   },
   "file_extension": ".py",
   "mimetype": "text/x-python",
   "name": "python",
   "nbconvert_exporter": "python",
   "pygments_lexer": "ipython3",
   "version": "3.6.1"
  }
 },
 "nbformat": 4,
 "nbformat_minor": 2
}
